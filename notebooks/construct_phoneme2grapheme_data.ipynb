{
 "cells": [
  {
   "cell_type": "code",
   "execution_count": 2,
   "metadata": {},
   "outputs": [],
   "source": [
    "from tensorflow_consumer.config import DATA_DIR"
   ]
  },
  {
   "cell_type": "code",
   "execution_count": 21,
   "metadata": {},
   "outputs": [],
   "source": [
    "import glob\n",
    "graphemefiles=[txtfilepath for txtfilepath in glob.glob(f\"{DATA_DIR}/beatles_lyrics/*.txt\")]\n",
    "phonemefiles=[txtfilepath for txtfilepath in glob.glob(f\"{DATA_DIR}/beatles_lyrics_phoneme/*.txt\")]"
   ]
  },
  {
   "cell_type": "code",
   "execution_count": 19,
   "metadata": {},
   "outputs": [],
   "source": [
    "for txtfilepath in glob.glob(f\"{DATA_DIR}/beatles_lyrics/*.txt\"):\n",
    "    lyricsfiles+=[txtfilepath]\n",
    "    with open(txtfilepath) as txtfile:\n",
    "        content=txtfile.read()\n",
    "    break"
   ]
  },
  {
   "cell_type": "code",
   "execution_count": 20,
   "metadata": {},
   "outputs": [
    {
     "data": {
      "text/plain": [
       "['/home/thom/recurrent_data/data/beatles_lyrics/Set Fire To That Lot! (Speech).txt']"
      ]
     },
     "execution_count": 20,
     "metadata": {},
     "output_type": "execute_result"
    }
   ],
   "source": [
    "lyricsfiles"
   ]
  },
  {
   "cell_type": "code",
   "execution_count": null,
   "metadata": {},
   "outputs": [],
   "source": []
  }
 ],
 "metadata": {
  "kernelspec": {
   "display_name": "Python 3",
   "language": "python",
   "name": "python3"
  },
  "language_info": {
   "codemirror_mode": {
    "name": "ipython",
    "version": 3
   },
   "file_extension": ".py",
   "mimetype": "text/x-python",
   "name": "python",
   "nbconvert_exporter": "python",
   "pygments_lexer": "ipython3",
   "version": "3.9.0+"
  }
 },
 "nbformat": 4,
 "nbformat_minor": 4
}
